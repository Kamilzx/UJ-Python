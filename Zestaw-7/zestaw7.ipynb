{
 "cells": [
  {
   "cell_type": "markdown",
   "metadata": {},
   "source": [
    "# Zadania\n",
    "\n",
    "**OBOWIĄZKOWE DO PRZESŁANIA: zadanie 7.6 i jedno z 7.1-7.5.**"
   ]
  },
  {
   "cell_type": "markdown",
   "metadata": {},
   "source": [
    "==========================================================================\n",
    "\n",
    "**ZADANIE 7.6 (ITERATORY)**\n",
    "\n",
    "**Stworzyć następujące iteratory nieskończone:**\n",
    "\n",
    "**(a) zwracający 0, 1, 0, 1, 0, 1, ...,**\n"
   ]
  },
  {
   "cell_type": "code",
   "execution_count": null,
   "metadata": {},
   "outputs": [],
   "source": [
    "import itertools\n",
    "\n",
    "for i in itertools.cycle('01'):\n",
    "    print(i, end = \", \")"
   ]
  },
  {
   "cell_type": "markdown",
   "metadata": {},
   "source": [
    "==========================================================================\n",
    "\n",
    "**(b) zwracający przypadkowo jedną wartość z (\"N\", \"E\", \"S\", \"W\") [błądzenie przypadkowe na sieci kwadratowej 2D],**"
   ]
  },
  {
   "cell_type": "code",
   "execution_count": null,
   "metadata": {},
   "outputs": [],
   "source": [
    "import random\n",
    "import itertools\n",
    "\n",
    "class MyRand:\n",
    "    \"\"\" Klasa do tworzenia przypadkowej wartosci (\"N\", \"E\", \"S\" ,\"W\" \"). \"\"\"\n",
    "    def __init__(self):\n",
    "        self.n = random.choice([\"N\",\"E\",\"S\",\"W\"])\n",
    "\n",
    "    def __call__(self):\n",
    "        self.n = random.choice([\"N\",\"E\",\"S\",\"W\"])\n",
    "        return self.n\n",
    "\n",
    "it = iter(MyRand(), -1)\n",
    "for i in it:\n",
    "    print(i)"
   ]
  },
  {
   "cell_type": "markdown",
   "metadata": {},
   "source": [
    "==========================================================================\n",
    "\n",
    "**(c) zwracający 0, 1, 2, 3, 4, 5, 6, 0, 1, 2, 3, 4, 5, 6, ... [numery dni tygodnia].**"
   ]
  },
  {
   "cell_type": "code",
   "execution_count": null,
   "metadata": {},
   "outputs": [],
   "source": [
    "import itertools\n",
    "  \n",
    "for i in itertools.cycle('0123456'):\n",
    "    print(i, end = \", \")"
   ]
  }
 ],
 "metadata": {
  "kernelspec": {
   "display_name": "Python 3.8.5 32-bit",
   "language": "python",
   "name": "python3"
  },
  "language_info": {
   "codemirror_mode": {
    "name": "ipython",
    "version": 3
   },
   "file_extension": ".py",
   "mimetype": "text/x-python",
   "name": "python",
   "nbconvert_exporter": "python",
   "pygments_lexer": "ipython3",
   "version": "3.8.5"
  },
  "orig_nbformat": 4,
  "vscode": {
   "interpreter": {
    "hash": "5a6ca414d54611af5afe537abfdbf7d73e318ac029ed874abade050f1d8056f3"
   }
  }
 },
 "nbformat": 4,
 "nbformat_minor": 2
}
