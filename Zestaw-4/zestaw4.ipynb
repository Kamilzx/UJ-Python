{
 "cells": [
  {
   "cell_type": "markdown",
   "metadata": {},
   "source": [
    "**OBOWIĄZKOWE DO PRZESŁANIA: wszystko oprócz 4.1**\n",
    "\n",
    "**Prosty sposób na automatyczne sprawdzenie kodu:**\n",
    "**assert result == expected_result**\n",
    "\n",
    "**W zadaniach budujemy całe napisy, a nie wyświetlamy po kawałku.**\n",
    "\n",
    "**W przypadku wykrycia błędów (np. nieprawidłowe argumenty) w Pythonie rzucamy wyjątkiem, np. raise ValueError(\"komunikat\"), a nie wypisujemy komunikatów przez print.**"
   ]
  },
  {
   "cell_type": "markdown",
   "metadata": {},
   "source": [
    "==========================================================================\n",
    "\n",
    "**ZADANIE 4.2\n",
    "Rozwiązania zadań 3.5 i 3.6 z poprzedniego zestawu zapisać w postaci funkcji, które zwracają pełny string przez return. Funkcje nie powinny pytać użytkownika o dane, tylko korzystać z argumentów.**\n",
    "\n",
    "def make_ruler(n): pass\n",
    "\n",
    "def make_grid(rows, cols): pass"
   ]
  },
  {
   "cell_type": "code",
   "execution_count": 58,
   "metadata": {},
   "outputs": [
    {
     "name": "stdout",
     "output_type": "stream",
     "text": [
      "|....|....|....|....|....|....|....|....|....|....|....|....|....|....|....|....|....|....|....|....|....|....|\n",
      "0    1    2    3    4    5    6    7    8    9   10   11   12   13   14   15   16   17   18   19   20   21   22\n",
      "\n",
      "\n",
      "+---+---+---+---+---+\n",
      "|   |   |   |   |   |\n",
      "+---+---+---+---+---+\n",
      "|   |   |   |   |   |\n",
      "+---+---+---+---+---+\n",
      "|   |   |   |   |   |\n",
      "+---+---+---+---+---+\n",
      "\n"
     ]
    }
   ],
   "source": [
    "def make_ruler(n):\n",
    "    try:\n",
    "        x = int(n)\n",
    "        miarkaG = \"|\"\n",
    "        miarkaD = \"0\"\n",
    "        spacje = \"    \"\n",
    "        j=0\n",
    "        for i in range(1,x+1):\n",
    "            miarkaG = miarkaG+\"....|\"\n",
    "            miarkaD = miarkaD+spacje+str(i)\n",
    "            if len(str(i)) < len(str(i+1)): spacje = spacje[0:len(spacje)-1]\n",
    "        return miarkaG+\"\\n\"+miarkaD\n",
    "    except:\n",
    "        raise ValueError(\"Podaj liczbe, nie tekst...\")\n",
    "\n",
    "def make_grid(rows, cols):  \n",
    "    try:\n",
    "        y = int(rows)\n",
    "        x = int(cols)\n",
    "        wynik = \"\"\n",
    "        kol = \"---+\"; wier = \"   |\"\n",
    "        linia1 = \"+\"; linia2 = \"|\"\n",
    "        \n",
    "        for i in range (0,x):\n",
    "            linia1 = linia1 + kol; linia2 = linia2 + wier\n",
    "        for i in range (0,y):\n",
    "            wynik+=linia1+\"\\n\"\n",
    "            wynik+=linia2+\"\\n\"\n",
    "        wynik+=linia1+\"\\n\"\n",
    "        return wynik\n",
    "    except:\n",
    "        raise ValueError(\"Podaj liczbe, nie tekst...\")\n",
    "\n",
    "linijka = make_ruler(22)\n",
    "print(linijka)   \n",
    "print(\"\\n\")\n",
    "\n",
    "grid = make_grid(3,5)\n",
    "print(grid)\n",
    "#make_ruler(\"t\")"
   ]
  },
  {
   "cell_type": "markdown",
   "metadata": {},
   "source": [
    "==========================================================================\n",
    "\n",
    "**ZADANIE 4.3\n",
    "Napisać iteracyjną wersję funkcji factorial(n) obliczającej silnię.**"
   ]
  },
  {
   "cell_type": "code",
   "execution_count": 57,
   "metadata": {},
   "outputs": [
    {
     "name": "stdout",
     "output_type": "stream",
     "text": [
      "120\n"
     ]
    }
   ],
   "source": [
    "def factorial(n):\n",
    "    for i in range(1,n): n*=i\n",
    "    return n\n",
    "        \n",
    "print(factorial(5))"
   ]
  },
  {
   "cell_type": "markdown",
   "metadata": {},
   "source": [
    "==========================================================================\n",
    "\n",
    "**ZADANIE 4.4\n",
    "Napisać iteracyjną wersję funkcji fibonacci(n) obliczającej n-ty wyraz ciągu Fibonacciego.**"
   ]
  },
  {
   "cell_type": "code",
   "execution_count": 56,
   "metadata": {},
   "outputs": [
    {
     "name": "stdout",
     "output_type": "stream",
     "text": [
      "0\n",
      "1\n",
      "1\n",
      "2\n",
      "3\n",
      "5\n",
      "8\n",
      "13\n",
      "21\n",
      "34\n",
      "55\n",
      "89\n",
      "144\n"
     ]
    }
   ],
   "source": [
    "def fibonacci(n):\n",
    "    res,pop,pop2 = 0,0,0\n",
    "    for i in range(0,n):\n",
    "        if i == 1:\n",
    "            res = 1\n",
    "        else: res = pop+pop2\n",
    "        pop2 = pop; pop = res\n",
    "    return res\n",
    "\n",
    "for i in range (1,14):\n",
    "    print(fibonacci(i))\n"
   ]
  },
  {
   "cell_type": "markdown",
   "metadata": {},
   "source": [
    "==========================================================================\n",
    "\n",
    "**ZADANIE 4.5\n",
    "Napisać funkcję odwracanie(L, left, right) odwracającą kolejność elementów na liście od numeru left do right włącznie. Lista jest modyfikowana w miejscu (in place). Rozważyć wersję iteracyjną i rekurencyjną.**"
   ]
  },
  {
   "cell_type": "code",
   "execution_count": 55,
   "metadata": {},
   "outputs": [
    {
     "name": "stdout",
     "output_type": "stream",
     "text": [
      "[1, 2, 3, 4, 5, 6, 7, 8, 9]\n",
      "[1, 8, 7, 6, 5, 4, 3, 2, 9]\n"
     ]
    }
   ],
   "source": [
    "def odwracanie(L, left, right):\n",
    "    while(left != right and left < right):\n",
    "        L[left], L[right] = L[right], L[left]\n",
    "        left+=1; right-=1\n",
    "    return L\n",
    "\n",
    "Lista = [1,2,3,4,5,6,7,8,9]\n",
    "print(Lista)\n",
    "print(odwracanie(Lista, 1, 7))"
   ]
  },
  {
   "cell_type": "markdown",
   "metadata": {},
   "source": [
    "==========================================================================\n",
    "\n",
    "**ZADANIE 4.6\n",
    "Napisać funkcję sum_seq(sequence) obliczającą sumę liczb zawartych w sekwencji, która może zawierać zagnieżdżone podsekwencje. Wskazówka: rozważyć wersję rekurencyjną, a sprawdzanie, czy element jest sekwencją, wykonać przez isinstance(item, (list, tuple)).**"
   ]
  },
  {
   "cell_type": "code",
   "execution_count": 48,
   "metadata": {},
   "outputs": [
    {
     "name": "stdout",
     "output_type": "stream",
     "text": [
      "55\n"
     ]
    }
   ],
   "source": [
    "def sum_seq(sequence):\n",
    "    suma = 0\n",
    "    for item in sequence:\n",
    "        if isinstance(item, (list,tuple)):\n",
    "            suma += sum_seq(item)\n",
    "        else: suma+= item\n",
    "    return suma\n",
    "\n",
    "seq = [1,2,3,[4,5,(6,7)],(8,9),(),10,[]]\n",
    "print(sum_seq(seq))"
   ]
  },
  {
   "cell_type": "markdown",
   "metadata": {},
   "source": [
    "==========================================================================\n",
    "\n",
    "**ZADANIE 4.7\n",
    "Mamy daną sekwencję, w której niektóre z elementów mogą okazać się podsekwencjami, a takie zagnieżdżenia mogą się nakładać do nieograniczonej głębokości. Napisać funkcję flatten(sequence), która zwróci spłaszczoną listę wszystkich elementów sekwencji. Wskazówka: rozważyć wersję rekurencyjną, a sprawdzanie czy element jest sekwencją, wykonać przez isinstance(item, (list, tuple)).**\n",
    "\n",
    "seq = [1,(2,3),[],[4,(5,6,7)],8,[9]]\n",
    "\n",
    "print(flatten(seq))   # [1,2,3,4,5,6,7,8,9]"
   ]
  },
  {
   "cell_type": "code",
   "execution_count": 54,
   "metadata": {},
   "outputs": [
    {
     "name": "stdout",
     "output_type": "stream",
     "text": [
      "[1, (2, 3), [], [4, (5, 6, 7)], 8, [9]]\n",
      "[1, 2, 3, 4, 5, 6, 7, 8, 9]\n"
     ]
    }
   ],
   "source": [
    "def flatten(seq):\n",
    "    res = []\n",
    "    temp = []\n",
    "    for item in seq:\n",
    "        if isinstance(item, (tuple, list)):\n",
    "            temp = flatten(item)\n",
    "            for el in temp:    # Jesli nasz element jest lista/tuple to splaszczamy az dojdziemy do atomowych elementow,\n",
    "                res.append(el) # ktore po prostu dodajemy do naszej koncowej listy. \n",
    "        else: res.append(item) # jesli juz byly atomowe to po prostu dodajemy\n",
    "    return res\n",
    "\n",
    "\n",
    "seq = [1,(2,3),[],[4,(5,6,7)],8,[9]]\n",
    "print(seq)\n",
    "print(flatten(seq))"
   ]
  }
 ],
 "metadata": {
  "kernelspec": {
   "display_name": "Python 3.8.5 32-bit",
   "language": "python",
   "name": "python3"
  },
  "language_info": {
   "codemirror_mode": {
    "name": "ipython",
    "version": 3
   },
   "file_extension": ".py",
   "mimetype": "text/x-python",
   "name": "python",
   "nbconvert_exporter": "python",
   "pygments_lexer": "ipython3",
   "version": "3.8.5"
  },
  "orig_nbformat": 4,
  "vscode": {
   "interpreter": {
    "hash": "5a6ca414d54611af5afe537abfdbf7d73e318ac029ed874abade050f1d8056f3"
   }
  }
 },
 "nbformat": 4,
 "nbformat_minor": 2
}
