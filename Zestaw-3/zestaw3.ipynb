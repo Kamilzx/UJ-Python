{
 "cells": [
  {
   "cell_type": "markdown",
   "metadata": {},
   "source": [
    "**Zadania\n",
    "OBOWIĄZKOWE DO PRZESŁANIA: wszystko oprócz 3.7**\n",
    "\n",
    "**Prosty sposób na automatyczne sprawdzenie kodu:\n",
    "assert result == expected_result**\n",
    "\n",
    "**W zadaniach budujemy całe napisy, a nie wyświetlamy po kawałku.**"
   ]
  },
  {
   "cell_type": "markdown",
   "metadata": {},
   "source": [
    "==========================================================================\n",
    "\n",
    "**ZADANIE 3.1\n",
    "Czy podany kod jest poprawny składniowo w Pythonie? Jeśli nie, to dlaczego?**\n",
    "\n",
    "x = 2; y = 3;\n",
    "\n",
    "if (x > y):\n",
    "\n",
    "        result = x;\n",
    "\n",
    "else:\n",
    "\n",
    "        result = y;\n",
    "\n",
    "for i in \"axby\": if ord(i) < 100: print (i)\n",
    "\n",
    "for i in \"axby\": print (ord(i) if ord(i) < 100 else i)"
   ]
  },
  {
   "cell_type": "code",
   "execution_count": 2,
   "metadata": {},
   "outputs": [
    {
     "name": "stdout",
     "output_type": "stream",
     "text": [
      "a\n",
      "b\n",
      "97\n",
      "x\n",
      "98\n",
      "y\n"
     ]
    }
   ],
   "source": [
    "# nie jest, if musi byc w nowej linijce\n",
    "\n",
    "x = 2; y = 3;\n",
    "if (x > y):\n",
    "    result = x;\n",
    "else:\n",
    "    result = y;\n",
    "for i in \"axby\": \n",
    "    if ord(i) < 100: print (i) #tutaj\n",
    "for i in \"axby\": print (ord(i) if ord(i) < 100 else i)"
   ]
  },
  {
   "cell_type": "markdown",
   "metadata": {},
   "source": [
    "==========================================================================\n",
    "\n",
    "**ZADANIE 3.2\n",
    "Co jest złego w kodzie:**\n",
    "\n",
    "L = [3, 5, 4] ; L = L.sort()\n",
    "\n",
    "x, y = 1, 2, 3\n",
    "\n",
    "X = 1, 2, 3 ; X[1] = 4\n",
    "\n",
    "X = [1, 2, 3] ; X[3] = 4\n",
    "\n",
    "X = \"abc\" ; X.append(\"d\")\n",
    "\n",
    "L = list(map(pow, range(8)))"
   ]
  },
  {
   "cell_type": "code",
   "execution_count": 5,
   "metadata": {},
   "outputs": [],
   "source": [
    "L = [3, 5, 4] ; L = L.sort()\n",
    "x, y = 1, 2#, 3               za duzo podanych liczb\n",
    "X = 1, 2, 3 ; #X[1] = 4       nie mozna podmieniac krotki w ten sposob\n",
    "X = [1, 2, 3] ; #X[3] = 4     zly index (mamy tylko 0,1,2)\n",
    "X = \"abc\" ; #X.append(\"d\")    nie mozna uzyc append na stringu\n",
    "#L = list(map(pow, range(8)))   brak argumentow funkcji dla pow"
   ]
  },
  {
   "cell_type": "markdown",
   "metadata": {},
   "source": [
    "==========================================================================\n",
    "\n",
    "**ZADANIE 3.3\n",
    "Wypisać w pętli liczby od 0 do 30 z wyjątkiem liczb podzielnych przez 3.**"
   ]
  },
  {
   "cell_type": "code",
   "execution_count": 6,
   "metadata": {},
   "outputs": [
    {
     "name": "stdout",
     "output_type": "stream",
     "text": [
      "1\n",
      "2\n",
      "4\n",
      "5\n",
      "7\n",
      "8\n",
      "10\n",
      "11\n",
      "13\n",
      "14\n",
      "16\n",
      "17\n",
      "19\n",
      "20\n",
      "22\n",
      "23\n",
      "25\n",
      "26\n",
      "28\n",
      "29\n"
     ]
    }
   ],
   "source": [
    "for i in range (0,30):\n",
    "    if i % 3 != 0: print(i)"
   ]
  },
  {
   "cell_type": "markdown",
   "metadata": {},
   "source": [
    "==========================================================================\n",
    "\n",
    "**ZADANIE 3.4\n",
    "Napisać program pobierający w pętli od użytkownika liczbę rzeczywistą x (typ float) i wypisujący x oraz trzecią potęgę x. Zatrzymanie programu następuje po wpisaniu z klawiatury stop. Jeżeli użytkownik wpisze napis zamiast liczby, to program ma wypisać komunikat o błędzie i kontynuować pracę.**"
   ]
  },
  {
   "cell_type": "code",
   "execution_count": 7,
   "metadata": {},
   "outputs": [
    {
     "name": "stdout",
     "output_type": "stream",
     "text": [
      "Liczba:  5.0 , Trzecia potega:  125.0\n",
      "Liczba:  6.0 , Trzecia potega:  216.0\n",
      "Liczba:  7.0 , Trzecia potega:  343.0\n",
      "Liczba:  8.0 , Trzecia potega:  512.0\n",
      "Liczba:  9.0 , Trzecia potega:  729.0\n",
      "Podaj liczbe, nie tekst\n"
     ]
    }
   ],
   "source": [
    "linia = input(\"Podaj liczbe, napisz \\\"stop\\\" aby zakonczyc.: \")\n",
    "while(linia != \"stop\"):\n",
    "    try:\n",
    "        x = float(linia)\n",
    "        print(\"Liczba: \",x,\", Trzecia potega: \",x*x*x)\n",
    "    except:\n",
    "        print(\"Podaj liczbe, nie tekst\")\n",
    "    linia = input(\"Podaj liczbe, napisz \\\"stop\\\" aby zakonczyc.: \")"
   ]
  },
  {
   "cell_type": "markdown",
   "metadata": {},
   "source": [
    "==========================================================================\n",
    "\n",
    "**ZADANIE 3.5\n",
    "Napisać program rysujący \"miarkę\" o zadanej długości. Należy prawidłowo obsłużyć liczby składające się z kilku cyfr (ostatnia cyfra liczby ma znajdować się pod znakiem kreski pionowej). Należy zbudować pełny string, a potem go wypisać.**\n",
    "\n",
    "|....|....|....|....|....|....|....|....|....|....|....|....|\n",
    "\n",
    "0    1    2    3    4    5    6    7    8    9   10   11   12"
   ]
  },
  {
   "cell_type": "code",
   "execution_count": 1,
   "metadata": {},
   "outputs": [
    {
     "name": "stdout",
     "output_type": "stream",
     "text": [
      "|....|....|....|....|....|....|....|....|....|....|....|....|....|....|....|....|....|....|....|....|....|....|....|....|....|\n",
      "0    1    2    3    4    5    6    7    8    9   10   11   12   13   14   15   16   17   18   19   20   21   22   23   24   25\n"
     ]
    }
   ],
   "source": [
    "linia = input(\"Podaj dlugosc miarki: \")\n",
    "try:\n",
    "    x = int(linia)\n",
    "    miarkaG = \"|\"\n",
    "    miarkaD = \"0\"\n",
    "    spacje = \"    \"\n",
    "    j=0\n",
    "    for i in range(1,x+1):\n",
    "        miarkaG = miarkaG+\"....|\"\n",
    "        miarkaD = miarkaD+spacje+str(i)\n",
    "        if len(str(i)) < len(str(i+1)): spacje = spacje[0:len(spacje)-1]\n",
    "    print(miarkaG)\n",
    "    print(miarkaD)\n",
    "    \n",
    "    \n",
    "except:\n",
    "    print(\"Podaj liczbe, nie tekst...\")"
   ]
  },
  {
   "cell_type": "markdown",
   "metadata": {},
   "source": [
    "==========================================================================\n",
    "\n",
    "**ZADANIE 3.6\n",
    "Napisać program rysujący prostokąt zbudowany z małych kratek. Należy zbudować pełny string, a potem go wypisać. Przykładowy prostokąt składający się 2x4 pól ma postać:**\n",
    "\n",
    "+---+---+---+---+\n",
    "\n",
    "| |   |   |   |\n",
    "\n",
    "+---+---+---+---+\n",
    "\n",
    "|   |   |   |   | \n",
    "\n",
    "+---+---+---+---+\n"
   ]
  },
  {
   "cell_type": "code",
   "execution_count": 19,
   "metadata": {},
   "outputs": [
    {
     "name": "stdout",
     "output_type": "stream",
     "text": [
      "+---+---+---+---+---+\n",
      "|   |   |   |   |   |\n",
      "+---+---+---+---+---+\n",
      "|   |   |   |   |   |\n",
      "+---+---+---+---+---+\n",
      "|   |   |   |   |   |\n",
      "+---+---+---+---+---+\n",
      "|   |   |   |   |   |\n",
      "+---+---+---+---+---+\n"
     ]
    }
   ],
   "source": [
    "try:\n",
    "    y = int(input(\"podaj liczbe wierszy\"))\n",
    "    x = int(input(\"podaj liczbe kolumn\"))\n",
    "    \n",
    "    kol = \"---+\"; wier = \"   |\"\n",
    "    linia1 = \"+\"; linia2 = \"|\"\n",
    "    \n",
    "    for i in range (0,x):\n",
    "        linia1 = linia1 + kol; linia2 = linia2 + wier\n",
    "    for i in range (0,y):\n",
    "        print(linia1)\n",
    "        print(linia2)\n",
    "    print(linia1)\n",
    "except:\n",
    "    print(\"Podaj liczbe, nie tekst...\")\n"
   ]
  },
  {
   "cell_type": "markdown",
   "metadata": {},
   "source": [
    "==========================================================================\n",
    "\n",
    "**ZADANIE 3.8 Dla dwóch sekwencji liczb lub znaków znaleźć:**\n",
    "\n",
    "**(a) listę elementów występujących jednocześnie w obu sekwencjach (bez powtórzeń),**\n",
    "\n",
    "**(b) listę wszystkich elementów z obu sekwencji (bez powtórzeń).**"
   ]
  },
  {
   "cell_type": "code",
   "execution_count": 21,
   "metadata": {},
   "outputs": [
    {
     "name": "stdout",
     "output_type": "stream",
     "text": [
      "['c', 'd', 'e', '1', '5']\n",
      "['a', 'b', 'c', 'd', 'e', '1', '2', '3', '4', '5', 'f', 'g', 'h', 'j']\n"
     ]
    }
   ],
   "source": [
    "sek1 = \"abccde112334555\"\n",
    "sek2 = \"fghcjd15fgeehj\"\n",
    "lista = []\n",
    "#a) Lista elementow w obu sekwencjach bez powtorzen\n",
    "for i in sek1:\n",
    "    if sek2.count(i) > 0 and lista.count(i) == 0: lista.append(i)\n",
    "print(lista)\n",
    "\n",
    "#b) Lista wszystkich elementow z obu sekwencji (bez powtorzen)\n",
    "lista = []\n",
    "for i in sek1:\n",
    "    if lista.count(i) == 0: lista.append(i)\n",
    "for j in sek2:\n",
    "    if lista.count(j) == 0: lista.append(j)\n",
    "print(lista)"
   ]
  },
  {
   "cell_type": "markdown",
   "metadata": {},
   "source": [
    "==========================================================================\n",
    "\n",
    "**ZADANIE 3.9 Mamy daną listę sekwencji (listy lub krotki) różnej długości zawierających liczby.**\n",
    "\n",
    "**Znaleźć listę zawierającą sumy liczb z tych sekwencji.** \n",
    "\n",
    "**Przykładowa sekwencja [[],[4],(1,2),[3,4],(5,6,7)], spodziewany wynik [0,4,3,7,18].**"
   ]
  },
  {
   "cell_type": "code",
   "execution_count": 23,
   "metadata": {},
   "outputs": [
    {
     "name": "stdout",
     "output_type": "stream",
     "text": [
      "[0, 4, 3, 7, 18]\n"
     ]
    }
   ],
   "source": [
    "L = [[],[4],(1,2),[3,4],(5,6,7)]\n",
    "result = []\n",
    "for el in L:\n",
    "    suma = 0\n",
    "    for el2 in el:\n",
    "        suma = suma + el2 # Dla kazdej listy/krotki ktora jest w liscie glownej, dodajemy do siebie wszystkie jej elementy.\n",
    "    result.append(suma)\n",
    "print(result)"
   ]
  },
  {
   "cell_type": "markdown",
   "metadata": {},
   "source": [
    "==========================================================================\n",
    "\n",
    "**ZADANIE 3.10\n",
    "Stworzyć słownik tłumaczący liczby zapisane w systemie rzymskim (z literami I, V, X, L, C, D, M) na liczby arabskie (podać kilka sposobów tworzenia takiego słownika). Mile widziany kod tłumaczący całą liczbę [funkcja roman2int()].**"
   ]
  },
  {
   "cell_type": "code",
   "execution_count": 32,
   "metadata": {},
   "outputs": [
    {
     "name": "stdout",
     "output_type": "stream",
     "text": [
      "2022\n",
      "1937\n",
      "1410\n",
      "2179\n",
      "4555\n"
     ]
    }
   ],
   "source": [
    "#Poczatek funkcji\n",
    "def roman2int(roman):\n",
    "    result = []\n",
    "    wynik = 0\n",
    "    for el in roman:\n",
    "        if el == \"I\": arab = 1\n",
    "        if el == \"V\": arab = 5\n",
    "        if el == \"X\": arab = 10\n",
    "        if el == \"L\": arab = 50\n",
    "        if el == \"C\": arab = 100\n",
    "        if el == \"D\": arab = 500\n",
    "        if el == \"M\": arab = 1000\n",
    "        result.append(arab)\n",
    "        i = 0\n",
    "    # Jesli mamy cos typu IX (mniejsza przed wiekzza) to chcemy odjac to mniejsze od wiekszego i dodac do wyniku\n",
    "    # Jednak nie chcemy zeby wykonala sie iteracja dla wiekszego (juz go wykorzystalismy) wiec do 'i' dodajemy 2\n",
    "    while(i < len(result)-1):\n",
    "        if result[i] < result[i+1]:\n",
    "            wynik = wynik + result[i+1] - result[i]\n",
    "            i = i + 2\n",
    "        else: \n",
    "            wynik = wynik + result[i]\n",
    "            i = i + 1\n",
    "    if i < len(result): wynik = wynik + result[i]\n",
    "    return wynik\n",
    "#Koniec funkcji\n",
    "\n",
    "\n",
    "\n",
    "roman = \"MMXXII\" # 2022\n",
    "print(roman2int(roman))\n",
    "roman = \"MCMXXXVII\" # 1937\n",
    "print(roman2int(roman))\n",
    "roman = \"MCCCCX\" # 1410\n",
    "print(roman2int(roman))\n",
    "roman = \"MMCLXXIX\" # 2179\n",
    "print(roman2int(roman))\n",
    "roman = \"MMMMDLV\" # 4555\n",
    "print(roman2int(roman))"
   ]
  }
 ],
 "metadata": {
  "kernelspec": {
   "display_name": "Python 3.8.5 32-bit",
   "language": "python",
   "name": "python3"
  },
  "language_info": {
   "codemirror_mode": {
    "name": "ipython",
    "version": 3
   },
   "file_extension": ".py",
   "mimetype": "text/x-python",
   "name": "python",
   "nbconvert_exporter": "python",
   "pygments_lexer": "ipython3",
   "version": "3.8.5"
  },
  "orig_nbformat": 4,
  "vscode": {
   "interpreter": {
    "hash": "5a6ca414d54611af5afe537abfdbf7d73e318ac029ed874abade050f1d8056f3"
   }
  }
 },
 "nbformat": 4,
 "nbformat_minor": 2
}
